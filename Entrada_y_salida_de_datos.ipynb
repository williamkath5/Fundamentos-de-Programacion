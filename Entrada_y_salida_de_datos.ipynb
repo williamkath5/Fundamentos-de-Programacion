{
  "cells": [
    {
      "cell_type": "markdown",
      "metadata": {
        "id": "view-in-github",
        "colab_type": "text"
      },
      "source": [
        "<a href=\"https://colab.research.google.com/github/williamkath5/Fundamentos-de-Programacion/blob/master/Entrada_y_salida_de_datos.ipynb\" target=\"_parent\"><img src=\"https://colab.research.google.com/assets/colab-badge.svg\" alt=\"Open In Colab\"/></a>"
      ]
    },
    {
      "cell_type": "markdown",
      "metadata": {
        "id": "RG_daCsH-QGn"
      },
      "source": [
        "# Introducción a Python\n",
        "## Python\n",
        "Python es un lenguaje de programación creado por Guido van Rossum a principios de los años 90, cuyo nombre está inspirado en el grupo de cómicos ingleses “Monty Python”. Es un lenguaje con una sintaxis muy limpia y que favorece un código legible. Se trata de un lenguaje interpretado o de script, con tipado dinámico, fuertemente tipado, multiplataforma y orientado a objetos. Decimos que es interpretado ya que Python ejecuta línea por línea el código, como si fuera un guion (de aquí la palabra script, que es su contraparte inglesa) De este modo, el programa no conoce las instrucciones que deberá ejecutar más adelante, por lo cual, algunos errores solo se presentarán al llegar hasta la línea que lo detona. \n",
        "Antes de ver algunas de las características que diferencian a Python de los otros lenguajes de programación, veamos qué es una variable y qué tipo de datos podemos almacenar en ellas.\n",
        "\n",
        "\n",
        "## Comentarios\n",
        "\n",
        "Siempre que deseemos que Python ignore una línea, de código, basta con poner un `#` al inicio de la misma, esto es útil para documentar el funcionamiento de nuestro código, esto es, añadir al inicio del script, dentro de un comentario, una descripción clara y concisa del funcionamiento del código consignado debajo del comentario, de este modo, al abrirlo en un futuro lejano podremos entender nuevamente el propósito del programa.\n",
        "\n",
        "```python\n",
        "instruccion\n",
        "# Comentario\n",
        "```\n",
        "\n",
        "\n",
        "\n",
        "## Variables y constantes\n",
        "\n",
        "<center><img src=\"https://thefoos-com.s3.amazonaws.com/cms/admin-uploads/variable_example.png\" alt=\"Variable\" style=\"width:500px;\"/></center>\n",
        "\n",
        "\n",
        "Una variable es un espacio dentro de la memoria que reservamos para almacenar datos de distintos tipos y le asignamos un nombre para poder acceder a él. Es útil pensar en las variables como un contenedor que almacena datos que pueden ser modificados posteriormente en el programa. En la imágen anterior podemos ver una buena analogía del comportamiento de las variables en Python, podemos ver estas como vasijas que almacenan datos y sólo se alterará su contenido si realizamos operaciones sobre estas.\n",
        "\n",
        "Por ejemplo, asignemos el valor 555 a la variable a:\n"
      ]
    },
    {
      "cell_type": "code",
      "execution_count": 1,
      "metadata": {
        "id": "6YWXr4en-QGu"
      },
      "outputs": [],
      "source": [
        "a = 555"
      ]
    },
    {
      "cell_type": "markdown",
      "metadata": {
        "id": "ipi1C7LA-QGw"
      },
      "source": [
        "Como vemos, en Python el proceso de asignación de variables es tan simple como asignar un nombre a la variable y luego escribir un = seguido del valor. Es un similar a las matemáticas, donde escribíamos simplemente $$ a = 555$$ \n",
        "\n",
        "Por otra parte, si deseamos observar los valores almacenados en la variable, basta con usar el comando `print` del lenguaje, el cual se usa de la siguiente manera:\n"
      ]
    },
    {
      "cell_type": "code",
      "execution_count": null,
      "metadata": {
        "id": "VHCnCZE0-QGx",
        "outputId": "0b9a51b3-a8f9-43be-b401-416ccc6dee50",
        "colab": {
          "base_uri": "https://localhost:8080/"
        }
      },
      "outputs": [
        {
          "output_type": "stream",
          "name": "stdout",
          "text": [
            "555\n"
          ]
        }
      ],
      "source": [
        "print(a)"
      ]
    },
    {
      "cell_type": "markdown",
      "metadata": {
        "id": "C-ppU5N1-QGy"
      },
      "source": [
        "Al ejecutar el bloque de código, es posible observar cómo Python, justo debajo de dicho bloque, nos entrega la salida por \"consola\" que obtendríamos al ejecutar el código desde el computador.\n",
        "\n",
        "`print` se debe usar siempre seguido del valor a imprimir rodeado de paréntesis, si queremos imprimir varios valores, basta con separar estos con comas y si queremos imprimir textos, estos deben estar entre comillas, sean sencillas  o dobles (De estos hablaremos a continuación)."
      ]
    },
    {
      "cell_type": "code",
      "execution_count": null,
      "metadata": {
        "id": "_HbUIfeH-QGz",
        "outputId": "b59d57bd-07f2-4e95-bfcd-3fba30fbfc1f",
        "colab": {
          "base_uri": "https://localhost:8080/"
        }
      },
      "outputs": [
        {
          "output_type": "stream",
          "name": "stdout",
          "text": [
            "555 esto es una cadena de texto 1234 esto también es una cadena de texto \n"
          ]
        }
      ],
      "source": [
        "print(a,\"esto es una cadena de texto\", 1234, 'esto también es una cadena de texto ')"
      ]
    },
    {
      "cell_type": "markdown",
      "source": [
        "## Convención para nombrar variables.\n",
        "\n",
        "Python utiliza unas convenciones de estilo pensadas en garantizar la legibilidad del código, estás reglas en encuentran en el documento llamado [PEP 8](https://www.python.org/dev/peps/pep-0008/) (Python Enhancement Proposal) creado en el 2001 y con su última modificación en el 2013. \n",
        "\n",
        "Aquí se recomienda nombrar las variables usando \"snake case\", este término se refiere al estilo de escritura en el que cada espacio se sustituye por un carácter de subrayado (`_`) y la primera letra de cada palabra se escribe en minúscula. Veamos algunos ejemplos de definición de variables bajo esta convención.\n",
        "\n",
        "```python\n",
        "pi = 3.1415\n",
        "promedio_acumulado = 55.845\n",
        "iva_producto = 0.19\n",
        "\n",
        "```\n",
        "\n",
        "\n",
        "Las variables debem describir claramente el valor que contendrán, sin embargo, tampoco es recomendable usar demasiadas palabras, pues cada una hará más difícil la lectura del código. \n",
        "\n",
        "También es recomendable dejar un espacio antes y después de cada operador, sea un `=` o cualquiera de los operadores que veremos en la próxima sección, esto nuevamente en pro de la legibilidad del código.\n"
      ],
      "metadata": {
        "id": "Qe_-57Ux-YeD"
      }
    },
    {
      "cell_type": "markdown",
      "metadata": {
        "id": "ZhcIblbS-QGz"
      },
      "source": [
        "\n",
        "\n",
        "Ahora bien, ¿con qué tipos de valores podemos trabajar en Python?\n",
        "\n",
        "## Numéricos \n",
        "\n",
        "Python incluye tres tipos numéricos para representar números: enteros, flotantes y complejos.\n",
        "\n",
        "### Enteros\n",
        "\n",
        "Los enteros son números tales como el cero, positivos o negativos sin parte decimal y con precisión ilimitada, por ejemplo, 0, 100, -10. Esta precisión es el número de bits usados para representar un valor, de este modo, precisión ilimitada quiere decir que, a diferencia de otros lenguajes, podemos representar cualquier número sin preocuparnos por el espacio de memoria que ocuparía en la RAM. Los siguientes son enteros válidos en Python.\n",
        "\n",
        "```python\n",
        ">>> 0\n",
        ">>> 100\n",
        ">>> -10\n",
        ">>> 1234567890\n",
        ">>> y=5000000000000000000000000000000000000000000000000000000\n",
        "```\n",
        "\n",
        "Podemos usar el comando `type` para verificar cúal es el tipo de estos valores:"
      ]
    },
    {
      "cell_type": "code",
      "execution_count": null,
      "metadata": {
        "id": "vDDJLyRl-QG0",
        "outputId": "3aae2adb-dbd3-4985-df8d-a26d6339d533"
      },
      "outputs": [
        {
          "name": "stdout",
          "output_type": "stream",
          "text": [
            "tipo de 0:  <class 'int'>\n",
            "tipo de y:  <class 'int'>\n"
          ]
        }
      ],
      "source": [
        "print(\"tipo de 0: \", type(0))\n",
        "y=5000000000000000000000000000000000000000000000000000000\n",
        "print(\"tipo de y: \", type(y))"
      ]
    },
    {
      "cell_type": "markdown",
      "metadata": {
        "id": "-Btgifjk-QG1"
      },
      "source": [
        "La salida del comando `type` muestra la palabra reservada `class`, esta hace parte de un paradigma del cual hablaremos en el ciclo 2, la programación orientada a objetos. En pocas palabras, una clase es una plantilla para la creación de objetos de datos según un modelo predefinido. Las clases se utilizan para representar entidades o conceptos. Cada clase es un modelo que define un conjunto de variables (el estado), y métodos apropiados para operar con dichos datos (el comportamiento). En este caso, la entidad es el tipo de dato entero: `int`. Vale la pena resaltar que en Python, no está permitido escribir enteros con un cero  a la izquierda precediendo el valor:"
      ]
    },
    {
      "cell_type": "code",
      "execution_count": null,
      "metadata": {
        "id": "W9g03img-QG2",
        "outputId": "d6373796-f277-4f9c-bf6d-527225925950"
      },
      "outputs": [
        {
          "ename": "SyntaxError",
          "evalue": "leading zeros in decimal integer literals are not permitted; use an 0o prefix for octal integers (<ipython-input-5-56565d45eb32>, line 1)",
          "output_type": "error",
          "traceback": [
            "\u001b[1;36m  File \u001b[1;32m\"<ipython-input-5-56565d45eb32>\"\u001b[1;36m, line \u001b[1;32m1\u001b[0m\n\u001b[1;33m    012345\u001b[0m\n\u001b[1;37m         ^\u001b[0m\n\u001b[1;31mSyntaxError\u001b[0m\u001b[1;31m:\u001b[0m leading zeros in decimal integer literals are not permitted; use an 0o prefix for octal integers\n"
          ]
        }
      ],
      "source": [
        "012345"
      ]
    },
    {
      "cell_type": "markdown",
      "metadata": {
        "id": "NaWhh96D-QG3"
      },
      "source": [
        "### Decimales: \"punto flotante\"\n",
        "\n",
        "Se denomina punto flotante `float` al método de representación de números reales que permite que la posición del punto se mueva (flote) a cualquier posición del número, permitiendo por ello un rango mayor de los números que es posible representar con cantidad fija de dígitos. Los números decimales en computación se escriben con un punto para separar la parte entera y la fracción, sin embargo, también es posible usar `e` para usar notación científica, es decir para escribir números de la forma $1\\times10^n$ por ejemplo, el número 3.4556789e2 equivale al número $3.4557 × 10^2$ o sea`345.57`. así, los siguientes son ejemplos de números válidos de tipo flotante: \n",
        "```python\n",
        ">>> f=1.2\n",
        ">>> 1e3\n",
        ">>> 3.4556789e2\n",
        ">>> x = -123.587\n",
        "```\n",
        "si usamos el comando type, obtendremos la clase `float`:\n"
      ]
    },
    {
      "cell_type": "code",
      "source": [
        ""
      ],
      "metadata": {
        "id": "_sGkg_7pSw6e"
      },
      "execution_count": null,
      "outputs": []
    },
    {
      "cell_type": "code",
      "execution_count": null,
      "metadata": {
        "id": "sn3NFPfx-QG4",
        "outputId": "0e58df89-adca-4c15-e1e4-83620984b6bb"
      },
      "outputs": [
        {
          "name": "stdout",
          "output_type": "stream",
          "text": [
            "tipo flotante:  <class 'float'>\n"
          ]
        }
      ],
      "source": [
        "print('tipo flotante: ', type(3.4556789))"
      ]
    },
    {
      "cell_type": "markdown",
      "metadata": {
        "id": "u87kSvhq-QG5"
      },
      "source": [
        "### Números complejos\n",
        "\n",
        "Si bien en computación no es muy común trabajar con números imaginarios (es decir, números de la forma $z=a+ib$ donde $i = \\sqrt{-1}$, $a$ es la parte real y $b$ la imaginaria), Python de forma nativa ofrece soporte para operar con ellos, aquí, la parte imaginaria $i$ se denota con la letra $j$, esto debido al estándar propuesto por la IEEE para trabajar con números complejos."
      ]
    },
    {
      "cell_type": "code",
      "execution_count": null,
      "metadata": {
        "id": "HQV0DCOk-QG5",
        "outputId": "683df25e-a89c-4538-ef5c-da2d252fdf36"
      },
      "outputs": [
        {
          "name": "stdout",
          "output_type": "stream",
          "text": [
            "(5+2j) tipo de a:  <class 'complex'>\n"
          ]
        }
      ],
      "source": [
        "a = 5 + 2j\n",
        "print(a, \"tipo de a: \", type(a))"
      ]
    },
    {
      "cell_type": "markdown",
      "metadata": {
        "id": "3wcfndRJ-QG5"
      },
      "source": [
        "No se pueden escribir con otras letras o dejar la parte imaginaria j vacía, de lo contrario se obtendrán errores de sintaxis:"
      ]
    },
    {
      "cell_type": "code",
      "execution_count": null,
      "metadata": {
        "id": "UMdrWro_-QG6",
        "outputId": "d5f1b314-da19-4f45-fb64-a1ea92cdfbc8"
      },
      "outputs": [
        {
          "ename": "SyntaxError",
          "evalue": "invalid syntax (<ipython-input-8-6b857f163a1c>, line 1)",
          "output_type": "error",
          "traceback": [
            "\u001b[1;36m  File \u001b[1;32m\"<ipython-input-8-6b857f163a1c>\"\u001b[1;36m, line \u001b[1;32m1\u001b[0m\n\u001b[1;33m    a=5+2k\u001b[0m\n\u001b[1;37m         ^\u001b[0m\n\u001b[1;31mSyntaxError\u001b[0m\u001b[1;31m:\u001b[0m invalid syntax\n"
          ]
        }
      ],
      "source": [
        " a = 5 + 2k"
      ]
    },
    {
      "cell_type": "code",
      "execution_count": null,
      "metadata": {
        "id": "udq0bmLm-QG6",
        "outputId": "14ecaecf-3f95-4e86-f0e2-563db92c02b5"
      },
      "outputs": [
        {
          "ename": "NameError",
          "evalue": "name 'j' is not defined",
          "output_type": "error",
          "traceback": [
            "\u001b[1;31m---------------------------------------------------------------------------\u001b[0m",
            "\u001b[1;31mNameError\u001b[0m                                 Traceback (most recent call last)",
            "\u001b[1;32m<ipython-input-9-53ad48aa7f6c>\u001b[0m in \u001b[0;36m<module>\u001b[1;34m\u001b[0m\n\u001b[1;32m----> 1\u001b[1;33m \u001b[0mz\u001b[0m\u001b[1;33m=\u001b[0m\u001b[1;36m1\u001b[0m\u001b[1;33m+\u001b[0m\u001b[0mj\u001b[0m\u001b[1;33m\u001b[0m\u001b[1;33m\u001b[0m\u001b[0m\n\u001b[0m",
            "\u001b[1;31mNameError\u001b[0m: name 'j' is not defined"
          ]
        }
      ],
      "source": [
        "z = 1 + j"
      ]
    },
    {
      "cell_type": "markdown",
      "metadata": {
        "id": "M3fI1SBH-QG6"
      },
      "source": [
        "En este caso, Python asume `j` como una variable cualquiera, pero al no estar definida, se marca el error que se observa arriba. Por lo tanto, la forma correcta para definir el número complejo en python no es `z = 1 + j` si no `z = 1 + 1j`"
      ]
    },
    {
      "cell_type": "markdown",
      "metadata": {
        "id": "ACvK7s0f-QG7"
      },
      "source": [
        "## Strings\n",
        "En Python, un string o cadena de caracteres es una secuencia de datos inmutable, esto quiere decir que una vez definido un string, no es posible modificar su contenido interno. Como observamos anteriormente, un string es una secuencia de caracteres envueltos dentro de comillas simples, dobles o triples.\n",
        "\n",
        "```python\n",
        "\n",
        ">>>'Esto es un string en Python' # string en comillas sencillas\n",
        ">>>\"Esto es un string en Python\" # string en comillas dobles\n",
        ">>>'''Esto es un string en Python''' # string en comillas triples\n",
        ">>>\"\"\"Esto es un string en Python\"\"\" # string en comillas dobles-triples (es equivalente al anterior)\n",
        "```"
      ]
    },
    {
      "cell_type": "code",
      "execution_count": null,
      "metadata": {
        "id": "vtj51eKB-QG7",
        "outputId": "49a5cd93-de7c-4388-9c53-ab955d94ca7a"
      },
      "outputs": [
        {
          "name": "stdout",
          "output_type": "stream",
          "text": [
            "Hola mundo tipo de s: <class 'str'>\n"
          ]
        }
      ],
      "source": [
        "s = 'Hola mundo'\n",
        "print(s, 'tipo de s:', type(s))"
      ]
    },
    {
      "cell_type": "markdown",
      "metadata": {
        "id": "K6a7NQ6j-QG8"
      },
      "source": [
        "Los strings de tres comillas permiten construir textos con saltos de línea:"
      ]
    },
    {
      "cell_type": "code",
      "execution_count": null,
      "metadata": {
        "id": "lLRRwGrY-QG8",
        "outputId": "7d704ff5-4b11-453c-c7fd-39ca02446a93",
        "colab": {
          "base_uri": "https://localhost:8080/"
        }
      },
      "outputs": [
        {
          "output_type": "stream",
          "name": "stdout",
          "text": [
            "Esto es \n",
            "un string\n",
            "con saltos de línea\n",
            "\n"
          ]
        }
      ],
      "source": [
        "s = '''Esto es \n",
        "un string\n",
        "con saltos de línea\n",
        "'''\n",
        "print(s)"
      ]
    },
    {
      "cell_type": "markdown",
      "metadata": {
        "id": "LefFrrg4-QG8"
      },
      "source": [
        "Cabe aclarar que también es posible crear textos con saltos de línea añadiendo `\\n` dentro del mismo renglón, el cual es el caracter especial reservado para crear saltos de línea en un computador, por lo tanto, queda a discreción de cada programador elegir la alternativa más cómoda para sus necesidades en cada programa.\n",
        "\n",
        "Es posible conocer la cantidad de caracteres de un string al usar el operador `len`, este cuenta también los espacios y caracteres especiales  que estén presentes dentro del string:"
      ]
    },
    {
      "cell_type": "code",
      "execution_count": null,
      "metadata": {
        "id": "8VFYA21D-QG8",
        "outputId": "98531c9b-ef22-4d45-d7be-17fc552f78c6"
      },
      "outputs": [
        {
          "name": "stdout",
          "output_type": "stream",
          "text": [
            "esto es un string con un salto de linea \n",
            "En su interior tamaño: 55\n"
          ]
        }
      ],
      "source": [
        "a = 'esto es un string con un salto de linea \\nEn su interior'\n",
        "print(a, 'tamaño:', len(a))"
      ]
    },
    {
      "cell_type": "markdown",
      "metadata": {
        "id": "aX4WpssG-QG9"
      },
      "source": [
        "Si queremos acceder al caracter presente en una posición específica del string, usamos corchetes y en su interior debemos ingresar la posición que queremos extraer, el primer caracter de cualquier string ocupa la posición 0, de este modo, si queremos capturar la cuarta posición, debemos poner el índice 3:"
      ]
    },
    {
      "cell_type": "code",
      "execution_count": null,
      "metadata": {
        "id": "rf_CvhOg-QG9",
        "outputId": "bf2433c4-1693-406c-95cd-b65a307ed91e"
      },
      "outputs": [
        {
          "name": "stdout",
          "output_type": "stream",
          "text": [
            "posición 0: p cuarta posición: a\n"
          ]
        }
      ],
      "source": [
        "a = 'parangaricutirimicuaro'\n",
        "print('posición 0:', a[0], 'cuarta posición:', a[3])"
      ]
    },
    {
      "cell_type": "markdown",
      "metadata": {
        "id": "4nsp59Wa-QG9"
      },
      "source": [
        "Si escribimos `a[4]` en este caso obtendríamos una n, que equivale a la quinta posición:"
      ]
    },
    {
      "cell_type": "code",
      "execution_count": null,
      "metadata": {
        "id": "BYZYUb0v-QG9",
        "outputId": "7292bf10-7b93-491e-a560-81a878f488c2"
      },
      "outputs": [
        {
          "name": "stdout",
          "output_type": "stream",
          "text": [
            "n\n"
          ]
        }
      ],
      "source": [
        "print(a[4])"
      ]
    },
    {
      "cell_type": "markdown",
      "metadata": {
        "id": "8ksOLIG0-QG-"
      },
      "source": [
        "Observemos por qué los string son inmutables. Si quisiéramos cambiar la cuarta posición del string `a` debería bastar con hacer lo siguiente\n",
        "\n",
        "```python\\\n",
        "a[3] = 'X'\n",
        "```\n",
        "\n",
        "Sin embargo, si ejecutamos dicho código, obtenemos lo siguiente:"
      ]
    },
    {
      "cell_type": "code",
      "execution_count": null,
      "metadata": {
        "id": "MH_oPrSF-QG-",
        "outputId": "8f661fc2-4fa6-4e91-c3bb-9e9c1cbe6dd3"
      },
      "outputs": [
        {
          "ename": "TypeError",
          "evalue": "'str' object does not support item assignment",
          "output_type": "error",
          "traceback": [
            "\u001b[1;31m---------------------------------------------------------------------------\u001b[0m",
            "\u001b[1;31mTypeError\u001b[0m                                 Traceback (most recent call last)",
            "\u001b[1;32m<ipython-input-15-cac56f5b4a7e>\u001b[0m in \u001b[0;36m<module>\u001b[1;34m\u001b[0m\n\u001b[1;32m----> 1\u001b[1;33m \u001b[0ma\u001b[0m\u001b[1;33m[\u001b[0m\u001b[1;36m3\u001b[0m\u001b[1;33m]\u001b[0m \u001b[1;33m=\u001b[0m \u001b[1;34m'X'\u001b[0m\u001b[1;33m\u001b[0m\u001b[1;33m\u001b[0m\u001b[0m\n\u001b[0m",
            "\u001b[1;31mTypeError\u001b[0m: 'str' object does not support item assignment"
          ]
        }
      ],
      "source": [
        "a[3] = 'X'"
      ]
    },
    {
      "cell_type": "markdown",
      "metadata": {
        "id": "r3l258w8-QG-"
      },
      "source": [
        "## Booleanos\n",
        "\n",
        "Este tipo de dato representan los estados lógicos falso y verdadero, es muy importante ya que, gracias a este, podremos más adelante hacer operaciones cíclicas o realizar operaciones alternativas según una condición establecida.\n",
        "\n",
        "```python\n",
        ">>> True\n",
        ">>> False\n",
        "```\n",
        "\n",
        "Como vemos, ambos valores usan su palabra en inglés y con el primer caracter en mayúscula."
      ]
    },
    {
      "cell_type": "code",
      "execution_count": null,
      "metadata": {
        "id": "zPWVvQoa-QG-",
        "outputId": "eb1680c6-2d1b-40bd-cdd8-fd426dc30803",
        "colab": {
          "base_uri": "https://localhost:8080/"
        }
      },
      "outputs": [
        {
          "output_type": "stream",
          "name": "stdout",
          "text": [
            "<class 'bool'>\n"
          ]
        }
      ],
      "source": [
        "print(type(True))"
      ]
    },
    {
      "cell_type": "markdown",
      "metadata": {
        "id": "z_8fHiAD-QHC"
      },
      "source": [
        "# Captura de datos\n",
        "\n",
        "Es común en la programación solicitarle al usuario que ingrese valores con los cuales se pueda realizar alguna operación, este proceso se puede realizar con la función `input`:\n",
        "```python\n",
        "variable = input('mensaje')\n",
        "```\n",
        "El mensaje que va en el interior de `input` aparecerá antes del puntero a la espera del valor a almacenar y se usa para explicarle al usuario qué debe ingresarle al programa, núnca se puede asumir que el usuario tiene pleno conocimiento del funcionamiento del programa que estamos codificando. Ejecuta el siguiente bloque de código e ingresa un valor numérico cualquiera.\n"
      ]
    },
    {
      "cell_type": "code",
      "execution_count": null,
      "metadata": {
        "id": "_TPqDD4W-QHC",
        "outputId": "5c4e54a0-905a-4630-f4a5-aef364e3d6a2"
      },
      "outputs": [
        {
          "name": "stdin",
          "output_type": "stream",
          "text": [
            "digite un numero:  5\n"
          ]
        },
        {
          "name": "stdout",
          "output_type": "stream",
          "text": [
            "5\n"
          ]
        }
      ],
      "source": [
        "variable = input('digite un numero: ')\n",
        "print(variable)"
      ]
    },
    {
      "cell_type": "markdown",
      "metadata": {
        "id": "f5vo3qB0-QHC"
      },
      "source": [
        "Ahora verifiquemos qué tipo de variable nos entregó `input`"
      ]
    },
    {
      "cell_type": "code",
      "execution_count": null,
      "metadata": {
        "id": "7VbnX5CZ-QHD",
        "outputId": "e8e08f3f-311b-4ef2-9cfa-d37477f7198b"
      },
      "outputs": [
        {
          "name": "stdout",
          "output_type": "stream",
          "text": [
            "<class 'str'>\n"
          ]
        }
      ],
      "source": [
        "print(type(variable))"
      ]
    },
    {
      "cell_type": "markdown",
      "metadata": {
        "id": "FQs2IEHE-QHD"
      },
      "source": [
        "A pesar de que ingresamos un número `input` lo almacenó como un string, esto se debe a que desde Python 3, todas las entradas por consola se almacenan como strings, si deseamos convertir la variable a otro tipo, debemos usar el comando `eval`, el cual determinará el tipo más apropiado para la variable o convertirla explícitamente, aplicando un ***casting*** (este termino  se refiere a la transformación de un tipo de dato en otro) con los siguientes comandos:\n",
        "*    `int()`     : convierte la variable en tipo entero\n",
        "*    `float()`   : convierte la variable en tipo punto flotante\n",
        "*    `str()`     : convierte la variable a string (no es necesaria en un input)\n",
        "*    `bool()`    : convierte la variable a booleano\n",
        "*    `complex()` : convierte la variable en número complejo\n"
      ]
    },
    {
      "cell_type": "code",
      "execution_count": null,
      "metadata": {
        "id": "6AFDQYw_-QHD",
        "outputId": "abff9efe-c2bb-409b-b153-4216952caaab",
        "colab": {
          "base_uri": "https://localhost:8080/"
        }
      },
      "outputs": [
        {
          "output_type": "stream",
          "name": "stdout",
          "text": [
            "digite un número: 5\n",
            "5 <class 'int'>\n"
          ]
        }
      ],
      "source": [
        "variable = eval(input('digite un número: '))\n",
        "print(variable, type(variable))"
      ]
    },
    {
      "cell_type": "code",
      "execution_count": null,
      "metadata": {
        "id": "pScWWY0g-QHD",
        "outputId": "2f5ef355-d145-461e-cf80-2d7787337729",
        "colab": {
          "base_uri": "https://localhost:8080/"
        }
      },
      "outputs": [
        {
          "output_type": "stream",
          "name": "stdout",
          "text": [
            "digite un número: 3.14\n",
            "3.14 <class 'float'>\n"
          ]
        }
      ],
      "source": [
        "variable = eval(input('digite un número: '))\n",
        "print(variable, type(variable))"
      ]
    },
    {
      "cell_type": "code",
      "execution_count": null,
      "metadata": {
        "id": "7YjlPmoK-QHE",
        "outputId": "92f7897f-7e19-4b68-d504-de4b3aa0155d",
        "colab": {
          "base_uri": "https://localhost:8080/"
        }
      },
      "outputs": [
        {
          "output_type": "stream",
          "name": "stdout",
          "text": [
            "digite un número: 5+4j\n",
            "(5+4j) <class 'complex'>\n"
          ]
        }
      ],
      "source": [
        "variable = eval(input('digite un número: '))\n",
        "print(variable, type(variable))"
      ]
    },
    {
      "cell_type": "markdown",
      "metadata": {
        "id": "tszkau2l-QHE"
      },
      "source": [
        "Si usamos el casting de entero en una variable flotante, eliminaremos la parte fraccionaria, el lenguaje **NO** redondea al realizar este proceso."
      ]
    },
    {
      "cell_type": "code",
      "execution_count": null,
      "metadata": {
        "id": "YwWx6UDr-QHE",
        "outputId": "20e095a3-4f66-4ef4-8a67-1f37d8c18f37"
      },
      "outputs": [
        {
          "name": "stdout",
          "output_type": "stream",
          "text": [
            "5.0\n"
          ]
        }
      ],
      "source": [
        "print(float(5))"
      ]
    },
    {
      "cell_type": "code",
      "execution_count": null,
      "metadata": {
        "id": "9gF2coAM-QHE",
        "outputId": "47019c4b-5eb4-4b84-97c1-e75f84f6ccdd"
      },
      "outputs": [
        {
          "name": "stdout",
          "output_type": "stream",
          "text": [
            "3\n"
          ]
        }
      ],
      "source": [
        "print(int(3.9999))"
      ]
    },
    {
      "cell_type": "markdown",
      "metadata": {
        "id": "HBA6EhB8-QHE"
      },
      "source": [
        "# Impresión de datos\n",
        "\n",
        "Ya vimos que el comando para imprimir a consola cualquier tipo de información es `print`, sin embargo, vamos a analizar algunos tipos de impresión distintos que se pueden realizar a partir de este comando."
      ]
    },
    {
      "cell_type": "code",
      "execution_count": null,
      "metadata": {
        "id": "-TDw_A8q-QHF",
        "outputId": "1614dd28-8aee-41e8-a654-3c836c30c90f",
        "colab": {
          "base_uri": "https://localhost:8080/"
        }
      },
      "outputs": [
        {
          "output_type": "stream",
          "name": "stdout",
          "text": [
            "primer mensaje\n",
            "segundo mensaje\n",
            "tercer mensaje\n"
          ]
        }
      ],
      "source": [
        "print('primer mensaje')\n",
        "print('segundo mensaje')\n",
        "print('tercer mensaje')"
      ]
    },
    {
      "cell_type": "markdown",
      "metadata": {
        "id": "ryECpDfN-QHF"
      },
      "source": [
        "Como vemos, Python por defecto separa las impresiones con un salto de línea, sin embargo, podemos cambiar este comportamiento añadiendo la instrucción `end` luego de una coma, dentro de los paréntesis de la función."
      ]
    },
    {
      "cell_type": "code",
      "execution_count": null,
      "metadata": {
        "id": "i0mmLoyc-QHF",
        "outputId": "76fe3e8f-bde2-493c-b119-af3654a21a0e",
        "colab": {
          "base_uri": "https://localhost:8080/"
        }
      },
      "outputs": [
        {
          "output_type": "stream",
          "name": "stdout",
          "text": [
            "primer mensaje segundo mensaje tercer mensaje\n"
          ]
        }
      ],
      "source": [
        "print('primer mensaje',  end=\" \")\n",
        "print('segundo mensaje', end=\" \")\n",
        "print('tercer mensaje')"
      ]
    },
    {
      "cell_type": "markdown",
      "metadata": {
        "id": "Nx5tAR85-QHF"
      },
      "source": [
        "Como vimos anteriormente, si añadimos dentro de un `print` varios objetos, este los separa con un espacio, si queremos modificar esto, debemos añadir la instrucción  `sep` dentro de la función, del mismo modo que hicimos con  `end`. Podemos poner cualquier string que deseemos en el interior."
      ]
    },
    {
      "cell_type": "code",
      "execution_count": null,
      "metadata": {
        "id": "dbSmP9y6-QHF",
        "outputId": "149d71be-8c66-41b3-ea45-9498b725fdb8",
        "colab": {
          "base_uri": "https://localhost:8080/"
        }
      },
      "outputs": [
        {
          "output_type": "stream",
          "name": "stdout",
          "text": [
            "primer mensaje segundo mensaje tercer mensaje\n"
          ]
        }
      ],
      "source": [
        "print('primer mensaje', 'segundo mensaje', 'tercer mensaje')"
      ]
    },
    {
      "cell_type": "code",
      "execution_count": null,
      "metadata": {
        "id": "g8t0lIF4-QHG",
        "outputId": "4ae0e6b1-fa32-4a41-b55f-67d2b883771f",
        "colab": {
          "base_uri": "https://localhost:8080/"
        }
      },
      "outputs": [
        {
          "output_type": "stream",
          "name": "stdout",
          "text": [
            "primer mensaje\n",
            "segundo mensaje\n",
            "tercer mensaje\n"
          ]
        }
      ],
      "source": [
        "print('primer mensaje', 'segundo mensaje', 'tercer mensaje', sep='\\n')"
      ]
    },
    {
      "cell_type": "code",
      "execution_count": null,
      "metadata": {
        "id": "Mp21h2DF-QHG",
        "outputId": "296a9b60-11d5-40da-c8c4-a7f5faf90d39",
        "colab": {
          "base_uri": "https://localhost:8080/"
        }
      },
      "outputs": [
        {
          "output_type": "stream",
          "name": "stdout",
          "text": [
            "primer mensaje->segundo mensaje->tercer mensaje\n"
          ]
        }
      ],
      "source": [
        "print('primer mensaje', 'segundo mensaje', 'tercer mensaje', sep='->')"
      ]
    },
    {
      "cell_type": "markdown",
      "metadata": {
        "id": "fYQjkvuj-QHG"
      },
      "source": [
        "## Impresión con formato\n",
        "La impresión con formato es una herramienta bastante poderosa, puesto que nos permite garantizar que las salidas de nuestro programa se comporten siempre de la misma manera independientemente de los datos que le entreguemos al mismo. Hay dos formas de añadir formato a una impresión:\n",
        "\n",
        "### Formateo de la salida utilizando el operador de módulo(%) : \n"
      ]
    },
    {
      "cell_type": "code",
      "execution_count": null,
      "metadata": {
        "id": "gosLd7FM-QHG",
        "outputId": "7a16926e-ad9b-4f8e-d265-4a4074981cbb"
      },
      "outputs": [
        {
          "name": "stdout",
          "output_type": "stream",
          "text": [
            "Total de estudiantes: 240, niños : 120\n"
          ]
        }
      ],
      "source": [
        "print(\"Total de estudiantes: %3.1d, niños : %2.2d\" % (240, 120))"
      ]
    },
    {
      "cell_type": "markdown",
      "metadata": {
        "id": "zqpX8fs_-QHG"
      },
      "source": [
        "El operador % también puede utilizarse para formatear strings. Para ello, la clase string sobrecarga el operador módulo % para realizar el formateo de cadenas. Por lo tanto, a menudo se le llama operador de módulo de string. \n",
        "\n",
        "El operador de módulo de cadena ( % ) todavía está disponible en Python(3.x) y es ampliamente utilizado, ya que permite restringir la cantidad de números a imprimir en variables.\n",
        "\n",
        "Como vimos en el ejemplo, los % acompañan números y letras, estos flag funcionan como \"placeholders\" en los cuales se insertará el valor, estos flag utilizan la siguiente sintaxis, tanto el ancho como precición son opcionales, pero el indicador de tipo **Sí** es necesario, ya que Python convierte el valor para que se ajuste al tipo deseado :\n",
        "\n",
        ">`%[<ancho>][.<presición>]<type>`\n",
        "\n",
        "En [este enlace](https://realpython.com/python-modulo-string-formatting/#convert-values-using-a-conversion-type) se explica a detalle cómo funcionan estos flag. De forma resumida, el primer número indica cantidad de espacios que se reservarán en la salida para la impresión, si se tiene un número o string con un tamaño superior a este ancho, el valor se imprimirá completo de todas formas, por lo cual es importante tener presente cual es el mayor valor a imprimir en el programa antes de crear el formato, de lo contrario, las impresiones se pueden desordenar, si fuesen inferiores, se dejará el espacio restante a la izquierda:\n"
      ]
    },
    {
      "cell_type": "code",
      "execution_count": null,
      "metadata": {
        "id": "YvezMUJw-QHH",
        "outputId": "7739e99e-87fc-4da9-8f2b-1f017abcd2ec"
      },
      "outputs": [
        {
          "name": "stdout",
          "output_type": "stream",
          "text": [
            "mayor:123456789, menor:  120\n"
          ]
        }
      ],
      "source": [
        "print(\"mayor:%3.1d, menor:%5.2d\" % (123456789, 120))"
      ]
    },
    {
      "cell_type": "markdown",
      "metadata": {
        "id": "Zf-rwRQk-QHH"
      },
      "source": [
        "El número después del punto, corresponde a la precición requerida para los número decimales, es decir, la cantidad de dígitos que se permitirá imprimir de la parte decimal, si el número tiene menos dígitos que la precición, se rellenará con ceros a la derecha, en el caso contrario, el número se redondeará a la cantidad de cifras permitidas:"
      ]
    },
    {
      "cell_type": "code",
      "execution_count": null,
      "metadata": {
        "id": "VuQfgMVf-QHH",
        "outputId": "a423273b-ecf5-4ff8-a8d0-0dfc496e80df"
      },
      "outputs": [
        {
          "name": "stdout",
          "output_type": "stream",
          "text": [
            "mayor:123.55, menor:120.12300\n"
          ]
        }
      ],
      "source": [
        "print(\"mayor:%3.2f, menor:%5.5f\" % (123.546872, 120.123))"
      ]
    },
    {
      "cell_type": "markdown",
      "metadata": {
        "id": "H2BoWS_4-QHH"
      },
      "source": [
        "En el anterior ejemplo, se cambió la `d` por una `f` esto se debe a que esta letra indica el tipo de dato que se va a insertar, a continuación se presentará una tabla con los tipos más comunes. \n",
        "\n",
        "\n",
        "| **type**  | **Tipo a insertar**            |\n",
        "| :-------: | :----------------------------: |\n",
        "| d         |Entero  decimal                 |\n",
        "| x, X      |Entero hexadecimal              |\n",
        "| o         |Entero octal                    |\n",
        "| f, F      |Punto flotante                  |  \n",
        "| e, E      |Notación científica             |\n",
        "| g, G      | Flotante o notación científica |\n",
        "| c         | Un solo caracter               |\n",
        "| s         | String                         |\n",
        "\n",
        "> El flag `g` usará el tipo que mejor se ajuste al ancho definido entre el flotante y la notación científica"
      ]
    },
    {
      "cell_type": "code",
      "execution_count": null,
      "metadata": {
        "id": "x4LYpsyQ-QHI",
        "outputId": "0533009f-eb6f-472a-bfe4-5fa3c713bf6b",
        "colab": {
          "base_uri": "https://localhost:8080/"
        }
      },
      "outputs": [
        {
          "output_type": "stream",
          "name": "stdout",
          "text": [
            "Número decimal: 4869, número hexadecimal: 1305, notación científica: 1.24e+05,  flag g: 4.9e+03\n"
          ]
        }
      ],
      "source": [
        "print(\"Número decimal: %d, número hexadecimal: %x, notación científica: %4.2e,  flag g: %4.2g\"%(4869,4869,123654.54236,4864.54))"
      ]
    },
    {
      "cell_type": "markdown",
      "metadata": {
        "id": "qcmTxSqu-QHI"
      },
      "source": [
        "### Interpolación de strings en Python : \n",
        "La interpolación de cadenas es un proceso que sustituye los valores de las variables en los marcadores de posición de una cadena. Por ejemplo, si tenemos una plantilla para saludar a una persona como `\"Hola {nombre_persona}, ¡encantado de conocerte!\"`, nos gustaría sustituir el marcador de posición de  `nombre_persona` por un nombre real. Este proceso se llama interpolación de strings.\n",
        "\n",
        "#### f-strings\n",
        "Python 3.6 añadió un nuevo método de interpolación de strings, llamado interpolación literal de strings e introdujo un nuevo prefijo literal f. Esta nueva forma de formatear strings es potente y fácil de usar, sin embargo en comparación al método anterior, no tenemos tanto control del formato ya que solo podemos insertar directamente la variable.\n",
        "\n",
        "La sintaxis de un f-string es muy simple, basta con añadir una `f` antes de la comilla inicial del string y escribir el nombre de la variable a insertar rodeada por `{}` y a la hora de imprimir, Python cambiará este por el valor almacenado en su interior:\n",
        "\n",
        "```python\n",
        "print(f'Hola {nombre}, ¡encantado de conocerte!')\n",
        "```\n",
        "\n",
        "\n"
      ]
    },
    {
      "cell_type": "code",
      "execution_count": null,
      "metadata": {
        "id": "rkOCGKHo-QHI",
        "outputId": "8f72833b-c313-4edc-dd37-b51a03c2238f"
      },
      "outputs": [
        {
          "name": "stdin",
          "output_type": "stream",
          "text": [
            "digita tu nombre:  Paco\n"
          ]
        },
        {
          "name": "stdout",
          "output_type": "stream",
          "text": [
            "Hola Paco, ¡encantado de conocerte!\n"
          ]
        }
      ],
      "source": [
        "nombre = input('digita tu nombre: ')\n",
        "print(f'Hola {nombre}, ¡encantado de conocerte!')"
      ]
    },
    {
      "cell_type": "markdown",
      "metadata": {
        "id": "96FJQgBN-QHI"
      },
      "source": [
        "## Características\n",
        "\n",
        "Ahora que vimos con qué tipo de datos podemos trabajar, veamos unas de las características de Python que lo diferencian de otros lenguajes.\n",
        "\n",
        "### Tipado dinámico\n",
        "Un lenguaje de programación tiene un sistema de tipos dinámico cuando el tipo de dato de una variable puede cambiar en tiempo de ejecución. Python efectivamente es, entonces, un lenguaje de tipado dinámico, ya que una variable puede comenzar teniendo un tipo de dato y cambiar en cualquier momento a otro tipo de dato. Por ejemplo:"
      ]
    },
    {
      "cell_type": "code",
      "execution_count": null,
      "metadata": {
        "id": "6qM--L1s-QHI",
        "outputId": "0f816d33-f664-46b2-948d-0f6d68fb9645"
      },
      "outputs": [
        {
          "name": "stdout",
          "output_type": "stream",
          "text": [
            "5\n",
            "Hola mundo\n"
          ]
        }
      ],
      "source": [
        "a = 5\n",
        "print(a)\n",
        "a = \"Hola mundo\"\n",
        "print(a)"
      ]
    },
    {
      "cell_type": "markdown",
      "metadata": {
        "id": "_SSl91eP-QHJ"
      },
      "source": [
        "Aquí la variable `a` es creada con el valor `5`, que es un número entero (int). Luego en la tercera línea se asigna el nuevo valor `\"Hola mundo\"`, por lo cual el tipo de dato cambia a una cadena (str). "
      ]
    },
    {
      "cell_type": "code",
      "execution_count": null,
      "metadata": {
        "id": "bsnYbjJj-QHJ",
        "outputId": "ddfc5f9f-19cc-4d22-8096-5db77c5adcb9"
      },
      "outputs": [
        {
          "name": "stdout",
          "output_type": "stream",
          "text": [
            "5 <class 'int'>\n",
            "Hola mundo <class 'str'>\n"
          ]
        }
      ],
      "source": [
        "a = 5\n",
        "print(a, type(a))\n",
        "a = \"Hola mundo\"\n",
        "print(a, type(a))"
      ]
    },
    {
      "cell_type": "markdown",
      "metadata": {
        "id": "u9OwTs27-QHJ"
      },
      "source": [
        "## Tipado fuerte\n",
        "Un lenguaje es de tipado fuerte cuando, ante una operación entre dos tipos de datos incompatibles, arroja un error en lugar de convertir implícitamente alguno de los dos tipos. Python es un lenguaje de tipado fuerte. Por ejemplo:"
      ]
    },
    {
      "cell_type": "code",
      "execution_count": null,
      "metadata": {
        "id": "FnCCfBVd-QHJ",
        "outputId": "059eb2cd-d675-4031-e0cf-6ee29a185987"
      },
      "outputs": [
        {
          "ename": "TypeError",
          "evalue": "unsupported operand type(s) for +: 'int' and 'str'",
          "output_type": "error",
          "traceback": [
            "\u001b[1;31m---------------------------------------------------------------------------\u001b[0m",
            "\u001b[1;31mTypeError\u001b[0m                                 Traceback (most recent call last)",
            "\u001b[1;32m<ipython-input-36-dda4bfe9ffd2>\u001b[0m in \u001b[0;36m<module>\u001b[1;34m\u001b[0m\n\u001b[0;32m      1\u001b[0m \u001b[0ma\u001b[0m \u001b[1;33m=\u001b[0m \u001b[1;36m5\u001b[0m\u001b[1;33m\u001b[0m\u001b[1;33m\u001b[0m\u001b[0m\n\u001b[0;32m      2\u001b[0m \u001b[0mb\u001b[0m \u001b[1;33m=\u001b[0m \u001b[1;34m\"7\"\u001b[0m\u001b[1;33m\u001b[0m\u001b[1;33m\u001b[0m\u001b[0m\n\u001b[1;32m----> 3\u001b[1;33m \u001b[0mprint\u001b[0m\u001b[1;33m(\u001b[0m\u001b[0ma\u001b[0m \u001b[1;33m+\u001b[0m \u001b[0mb\u001b[0m\u001b[1;33m)\u001b[0m  \u001b[1;31m# ¡Error!\u001b[0m\u001b[1;33m\u001b[0m\u001b[1;33m\u001b[0m\u001b[0m\n\u001b[0m",
            "\u001b[1;31mTypeError\u001b[0m: unsupported operand type(s) for +: 'int' and 'str'"
          ]
        }
      ],
      "source": [
        "a = 5\n",
        "b = \"7\"\n",
        "print(a + b)  # ¡Error!"
      ]
    },
    {
      "cell_type": "markdown",
      "metadata": {
        "id": "5gBArMuf-QHJ"
      },
      "source": [
        "Aquí la tercera línea arroja un error, porque un entero (`a`) no puede sumarse a una cadena (`b`). Python podría convertir automáticamente la variable `b` a un entero o `a` a una cadena para que la operación tenga éxito; pero no lo hace, porque el sistema de tipos es fuerte. Para realizar esta operación, hay que hacer alguna conversión explícita:"
      ]
    },
    {
      "cell_type": "code",
      "execution_count": null,
      "metadata": {
        "id": "J2VW8p-C-QHK",
        "outputId": "924ac2aa-58d1-4a7c-aee6-53d06104137f"
      },
      "outputs": [
        {
          "name": "stdout",
          "output_type": "stream",
          "text": [
            "12\n"
          ]
        }
      ],
      "source": [
        "a = 5\n",
        "b = \"7\"\n",
        "print(a + int(b))"
      ]
    },
    {
      "cell_type": "code",
      "execution_count": null,
      "metadata": {
        "id": "piAlu3JP-QHK",
        "outputId": "9f776fbc-930a-473f-ca5b-cd3cfd2300cb"
      },
      "outputs": [
        {
          "name": "stdout",
          "output_type": "stream",
          "text": [
            "57\n"
          ]
        }
      ],
      "source": [
        "a = 5\n",
        "b = \"7\"\n",
        "print(str(a) + b)"
      ]
    },
    {
      "cell_type": "markdown",
      "metadata": {
        "id": "GRpL1nng-QHK"
      },
      "source": [
        "###  Multiplataforma\n",
        "El intérprete de Python está disponible en multitud de plataformas (UNIX, Windows, Mac OS, etc.) por lo que si no utilizamos librerías específicas de cada plataforma nuestro programa podrá correr en todos estos sistemas sin grandes cambios.\n",
        "\n",
        "**En la proxima lección estudiaremos qué tipos de operaciones podemos realizar con los datos que soporta Python.**"
      ]
    }
  ],
  "metadata": {
    "kernelspec": {
      "display_name": "Python 3",
      "language": "python",
      "name": "python3"
    },
    "language_info": {
      "codemirror_mode": {
        "name": "ipython",
        "version": 3
      },
      "file_extension": ".py",
      "mimetype": "text/x-python",
      "name": "python",
      "nbconvert_exporter": "python",
      "pygments_lexer": "ipython3",
      "version": "3.8.5"
    },
    "colab": {
      "name": "Entrada_y_salida_de_datos.ipynb",
      "provenance": [],
      "collapsed_sections": [
        "GRpL1nng-QHK"
      ],
      "include_colab_link": true
    }
  },
  "nbformat": 4,
  "nbformat_minor": 0
}